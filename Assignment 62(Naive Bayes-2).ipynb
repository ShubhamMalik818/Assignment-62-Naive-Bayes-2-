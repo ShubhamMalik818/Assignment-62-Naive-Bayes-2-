{
 "cells": [
  {
   "cell_type": "code",
   "execution_count": null,
   "id": "8299dec8-4afc-4c48-86f4-c1e521a4312d",
   "metadata": {},
   "outputs": [],
   "source": [
    "Q1. A company conducted a survey of its employees and found that 70% of the employees use the company health insurance plan, while 40% of \n",
    "   the employees who use the plan are smokers. What is the probability that an employee is a smoker given that he/she uses the health \n",
    "    insurance plan?"
   ]
  },
  {
   "cell_type": "code",
   "execution_count": null,
   "id": "3c64b96b-01f9-4324-a230-dfcf251e2e9c",
   "metadata": {},
   "outputs": [],
   "source": [
    "import numpy as np\n",
    "\n",
    "# Number of employees who use the health insurance plan and are smokers\n",
    "number_smokers_using_plan = 0.4 * 0.7 * 100\n",
    "\n",
    "# Total number of employees who use the health insurance plan\n",
    "number_employees_using_plan = 0.7 * 100\n",
    "\n",
    "# Probability that an employee is a smoker given that he/she uses the health insurance plan\n",
    "probability_smoker_given_plan = number_smokers_using_plan / number_employees_using_plan\n",
    "\n",
    "print(probability_smoker_given_plan)"
   ]
  },
  {
   "cell_type": "code",
   "execution_count": null,
   "id": "fdc8dca1-8fa2-4644-9a54-e58e977b2376",
   "metadata": {},
   "outputs": [],
   "source": [
    "The Output of the above code is:\n",
    "    \n",
    "0.4\n",
    "\n",
    "As you can see, the probability that an employee is a smoker given that he/she uses the health insurance plan is 0.4."
   ]
  },
  {
   "cell_type": "code",
   "execution_count": null,
   "id": "9661c99b-f5a4-41e2-babf-7dd4369f0109",
   "metadata": {},
   "outputs": [],
   "source": [
    "Q2. What is the difference between Bernoulli Naive Bayes and Multinomial Naive Bayes?\n",
    "\n",
    "ANS- Bernoulli Naive Bayes and Multinomial Naive Bayes are two types of Naive Bayes classifiers. They are both based on the Bayes theorem, \n",
    "     but they make different assumptions about the data.\n",
    "\n",
    "1. Bernoulli Naive Bayes: Bernoulli Naive Bayes assumes that the data is binary. This means that each feature can take on only two values, \n",
    "                          such as 0 or 1, true or false, or present or absent.\n",
    "2. Multinomial Naive Bayes: Multinomial Naive Bayes assumes that the data is categorical. This means that each feature can take on any \n",
    "                            number of values, such as the number of times a word appears in a document.\n",
    "\n",
    "The main difference between Bernoulli Naive Bayes and Multinomial Naive Bayes is how they calculate the likelihood of a feature given a \n",
    "class. In Bernoulli Naive Bayes, the likelihood is calculated as the probability that the feature is equal to 1 given the class. \n",
    "In Multinomial Naive Bayes, the likelihood is calculated as the probability that the feature takes on a particular value given the class.\n",
    "\n",
    "Bernoulli Naive Bayes is a simpler classifier than Multinomial Naive Bayes. However, Multinomial Naive Bayes is more powerful and can be \n",
    "used to classify data with more than two values.\n",
    "\n",
    "Here is a table that summarizes the differences between Bernoulli Naive Bayes and Multinomial Naive Bayes:\n",
    "\n",
    "Feature\t                     Bernoulli Naive Bayes\t                Multinomial Naive Bayes\n",
    "\n",
    "Data type\t                       Binary\t                            Categorical\n",
    "Likelihood calculation\t    Probability that the feature is            Probability that the feature takes on a particular value given the class\n",
    "                              equal to 1 given the class                given the class\t\n",
    "Complexity\t                       Simpler\t                            More powerful\n",
    "Use cases\t                Classification of data with two values\t   Classification of data with more than two values"
   ]
  },
  {
   "cell_type": "code",
   "execution_count": null,
   "id": "d6398d49-6ea2-49eb-9257-c62fc510fa28",
   "metadata": {},
   "outputs": [],
   "source": [
    "Q3. How does Bernoulli Naive Bayes handle missing values?\n",
    "\n",
    "ANS- Bernoulli Naive Bayes handles missing values by assuming that the missing values are equal to 0. This is because Bernoulli Naive Bayes \n",
    "    assumes that the data is binary, and 0 is the default value for a binary feature.\n",
    "\n",
    "For example, if a feature is \"smoker\" and the value is missing, Bernoulli Naive Bayes will assume that the person is not a smoker. \n",
    "This is because the probability of a person being a smoker is typically much lower than the probability of a person not being a smoker.\n",
    "\n",
    "There are a few other ways to handle missing values in Bernoulli Naive Bayes. One way is to impute the missing values. This means that you \n",
    "can replace the missing values with some other value, such as the mean or median of the feature.\n",
    "\n",
    "Another way to handle missing values is to omit the features with missing values. This means that you will not use the features with \n",
    "missing values when you are training the Bernoulli Naive Bayes classifier.\n",
    "\n",
    "The best way to handle missing values in Bernoulli Naive Bayes depends on the specific dataset that you are using. If you have a small \n",
    "dataset, you may want to omit the features with missing values. If you have a large dataset, you may want to impute the missing values.\n",
    "\n",
    "Here are some of the pros and cons of handling missing values in Bernoulli Naive Bayes:\n",
    "\n",
    "Pros:\n",
    "\n",
    "1. Simple: It is a simple way to handle missing values.\n",
    "2. Efficient: It does not require any additional computation.\n",
    "\n",
    "\n",
    "Cons:\n",
    "\n",
    "1. Not always accurate: The accuracy of the classifier may be reduced if the missing values are not representative of the data.\n",
    "2. Not always robust: The classifier may be sensitive to the imputation method that you use."
   ]
  },
  {
   "cell_type": "code",
   "execution_count": null,
   "id": "f0d0211a-9f64-41c0-845d-c63237704c8f",
   "metadata": {},
   "outputs": [],
   "source": [
    "Q4. Can Gaussian Naive Bayes be used for multi-class classification?\n",
    "\n",
    "ANS- Yes, Gaussian Naive Bayes can be used for multi-class classification. Gaussian Naive Bayes assumes that the data is normally \n",
    "     distributed. This means that the features in the data are distributed around a mean value with a standard deviation.\n",
    "\n",
    "For multi-class classification, Gaussian Naive Bayes assumes that each class has its own normal distribution. This means that the features \n",
    "in each class are distributed around a different mean value with a different standard deviation.\n",
    "\n",
    "The Gaussian Naive Bayes classifier can then be used to classify new data by finding the class that has the highest probability of the data \n",
    "being generated from its normal distribution.\n",
    "\n",
    "Here is an example of how Gaussian Naive Bayes can be used for multi-class classification. Let's say we have a dataset of images of cats \n",
    "and dogs. We want to use Gaussian Naive Bayes to classify new images as either cats or dogs.\n",
    "\n",
    "We can start by assuming that each class has its own normal distribution. For the cat class, the mean value of the features might be \n",
    "around 0, and the standard deviation might be around 1. For the dog class, the mean value of the features might be around 1, and the \n",
    "standard deviation might be around 2.\n",
    "\n",
    "We can then use Gaussian Naive Bayes to classify new images by finding the class that has the highest probability of the image being \n",
    "generated from its normal distribution. For example, if we have a new image of a cat, the Gaussian Naive Bayes classifier will compare \n",
    "the image to the normal distributions for the cat class and the dog class. If the image is more likely to have been generated from the cat \n",
    "class's normal distribution, the classifier will classify the image as a cat.\n",
    "\n",
    "Gaussian Naive Bayes is a simple and efficient classifier that can be used for multi-class classification. However, it is important to \n",
    "note that Gaussian Naive Bayes assumes that the data is normally distributed. If the data is not normally distributed, the accuracy of the \n",
    "classifier may be reduced."
   ]
  }
 ],
 "metadata": {
  "kernelspec": {
   "display_name": "Python 3 (ipykernel)",
   "language": "python",
   "name": "python3"
  },
  "language_info": {
   "codemirror_mode": {
    "name": "ipython",
    "version": 3
   },
   "file_extension": ".py",
   "mimetype": "text/x-python",
   "name": "python",
   "nbconvert_exporter": "python",
   "pygments_lexer": "ipython3",
   "version": "3.10.8"
  }
 },
 "nbformat": 4,
 "nbformat_minor": 5
}
